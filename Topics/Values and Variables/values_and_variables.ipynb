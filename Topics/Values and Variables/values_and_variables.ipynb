{
 "cells": [
  {
   "cell_type": "markdown",
   "id": "980a6df8",
   "metadata": {},
   "source": [
    "# Section 1: Introduction to Variables and Values"
   ]
  },
  {
   "cell_type": "code",
   "execution_count": 1,
   "id": "f5b7d9cc",
   "metadata": {},
   "outputs": [
    {
     "data": {
      "text/plain": [
       "8"
      ]
     },
     "execution_count": 1,
     "metadata": {},
     "output_type": "execute_result"
    }
   ],
   "source": [
    "# This cell demonstrates basic arithmetic operations in Python.\n",
    "\n",
    "# Addition of two numbers\n",
    "2 + 2\n",
    "\n",
    "# Subtraction of two numbers\n",
    "4 - 2\n",
    "\n",
    "# Multiplication of two numbers\n",
    "3 * 2\n",
    "\n",
    "# Division of two numbers\n",
    "10 / 2\n",
    "\n",
    "# Floor division - division that results in an integer\n",
    "10 // 3\n",
    "\n",
    "# Modulus - remainder of the division\n",
    "10 % 3\n",
    "\n",
    "# Exponentiation - power calculation\n",
    "2 ** 3"
   ]
  },
  {
   "cell_type": "markdown",
   "id": "d113d153",
   "metadata": {},
   "source": [
    "# Section 2: Variables"
   ]
  },
  {
   "cell_type": "code",
   "execution_count": 2,
   "id": "8490a158",
   "metadata": {},
   "outputs": [
    {
     "name": "stdout",
     "output_type": "stream",
     "text": [
      "30\n"
     ]
    }
   ],
   "source": [
    "# Variables are used to store values. Let's assign values to variables.\n",
    "\n",
    "# Assigning the value 10 to the variable a\n",
    "a = 10\n",
    "\n",
    "# Assigning the value 20 to the variable b\n",
    "b = 20\n",
    "\n",
    "# Adding two variables\n",
    "c = a + b\n",
    "\n",
    "# Printing the result of the addition\n",
    "print(c)"
   ]
  },
  {
   "cell_type": "markdown",
   "id": "23df911d",
   "metadata": {},
   "source": [
    "# Section 3: Printing Variables"
   ]
  },
  {
   "cell_type": "code",
   "execution_count": 3,
   "id": "54c18881",
   "metadata": {},
   "outputs": [
    {
     "name": "stdout",
     "output_type": "stream",
     "text": [
      "Hello, world!\n",
      "10\n",
      "20\n",
      "The value of a is: 10\n",
      "The value of b is: 20\n"
     ]
    }
   ],
   "source": [
    "# The print() function is used to output values to the console.\n",
    "\n",
    "# Printing a simple string\n",
    "print(\"Hello, world!\")\n",
    "\n",
    "# Printing variables\n",
    "print(a)\n",
    "print(b)\n",
    "\n",
    "# Printing a combination of strings and variables\n",
    "print(\"The value of a is:\", a)\n",
    "print(\"The value of b is:\", b)"
   ]
  },
  {
   "cell_type": "markdown",
   "id": "480df092",
   "metadata": {},
   "source": [
    "# Section 4: Types of Variables"
   ]
  },
  {
   "cell_type": "code",
   "execution_count": 4,
   "id": "89b33fa6",
   "metadata": {},
   "outputs": [
    {
     "name": "stdout",
     "output_type": "stream",
     "text": [
      "num: 5 type: <class 'int'>\n",
      "decimal_num: 3.14 type: <class 'float'>\n",
      "name: Alice type: <class 'str'>\n",
      "is_student: True type: <class 'bool'>\n"
     ]
    }
   ],
   "source": [
    "# Variables can store different types of values such as integers, floats, strings, etc.\n",
    "\n",
    "# Integer variable\n",
    "num = 5\n",
    "\n",
    "# Float variable\n",
    "decimal_num = 3.14\n",
    "\n",
    "# String variable\n",
    "name = \"Alice\"\n",
    "\n",
    "# Boolean variable\n",
    "is_student = True\n",
    "\n",
    "# Printing the values and types of the variables\n",
    "print(\"num:\", num, \"type:\", type(num))\n",
    "print(\"decimal_num:\", decimal_num, \"type:\", type(decimal_num))\n",
    "print(\"name:\", name, \"type:\", type(name))\n",
    "print(\"is_student:\", is_student, \"type:\", type(is_student))"
   ]
  },
  {
   "cell_type": "markdown",
   "id": "25eb5925",
   "metadata": {},
   "source": [
    "# Section 5: Type Conversion"
   ]
  },
  {
   "cell_type": "code",
   "execution_count": 5,
   "id": "57f46d92",
   "metadata": {},
   "outputs": [
    {
     "name": "stdout",
     "output_type": "stream",
     "text": [
      "a_float: 5.0 type: <class 'float'>\n",
      "b_int: 3 type: <class 'int'>\n",
      "c_str: 10 type: <class 'str'>\n",
      "d_int: 20 type: <class 'int'>\n"
     ]
    }
   ],
   "source": [
    "# Python allows for type conversion. Let's see how to convert between types.\n",
    "\n",
    "# Converting integer to float\n",
    "a = 5\n",
    "a_float = float(a)\n",
    "\n",
    "# Converting float to integer\n",
    "b = 3.14\n",
    "b_int = int(b)\n",
    "\n",
    "# Converting integer to string\n",
    "c = 10\n",
    "c_str = str(c)\n",
    "\n",
    "# Converting string to integer\n",
    "d = \"20\"\n",
    "d_int = int(d)\n",
    "\n",
    "# Printing the converted values and their types\n",
    "print(\"a_float:\", a_float, \"type:\", type(a_float))\n",
    "print(\"b_int:\", b_int, \"type:\", type(b_int))\n",
    "print(\"c_str:\", c_str, \"type:\", type(c_str))\n",
    "print(\"d_int:\", d_int, \"type:\", type(d_int))"
   ]
  },
  {
   "cell_type": "markdown",
   "id": "0ba7e2ef",
   "metadata": {},
   "source": [
    "# Section 6: Basic Operations with Variables"
   ]
  },
  {
   "cell_type": "code",
   "execution_count": 6,
   "id": "6ea12877",
   "metadata": {},
   "outputs": [
    {
     "name": "stdout",
     "output_type": "stream",
     "text": [
      "Addition: 8.14\n",
      "Subtraction: 1.8599999999999999\n",
      "Multiplication: 15.700000000000001\n",
      "Division: 1.592356687898089\n",
      "Floor Division: 1.0\n",
      "Modulus: 1.8599999999999999\n",
      "Exponentiation: 156.59064522818883\n"
     ]
    }
   ],
   "source": [
    "# You can perform arithmetic operations with variables just like with numbers.\n",
    "\n",
    "# Addition\n",
    "result = a + b\n",
    "print(\"Addition:\", result)\n",
    "\n",
    "# Subtraction\n",
    "result = a - b\n",
    "print(\"Subtraction:\", result)\n",
    "\n",
    "# Multiplication\n",
    "result = a * b\n",
    "print(\"Multiplication:\", result)\n",
    "\n",
    "# Division\n",
    "result = a / b\n",
    "print(\"Division:\", result)\n",
    "\n",
    "# Floor Division\n",
    "result = a // b\n",
    "print(\"Floor Division:\", result)\n",
    "\n",
    "# Modulus\n",
    "result = a % b\n",
    "print(\"Modulus:\", result)\n",
    "\n",
    "# Exponentiation\n",
    "result = a ** b\n",
    "print(\"Exponentiation:\", result)"
   ]
  },
  {
   "cell_type": "markdown",
   "id": "9f82939f",
   "metadata": {},
   "source": [
    "# Section 7: Comments"
   ]
  },
  {
   "cell_type": "code",
   "execution_count": 7,
   "id": "a2781bea",
   "metadata": {},
   "outputs": [
    {
     "data": {
      "text/plain": [
       "'\\nThis is a multi-line comment in Python.\\nMulti-line comments are also ignored by the interpreter.\\nThey can be used to explain more complex sections of code.\\n'"
      ]
     },
     "execution_count": 7,
     "metadata": {},
     "output_type": "execute_result"
    }
   ],
   "source": [
    "# This is a single-line comment in Python.\n",
    "# Comments are ignored by the interpreter and are used to explain the code.\n",
    "\n",
    "\"\"\"\n",
    "This is a multi-line comment in Python.\n",
    "Multi-line comments are also ignored by the interpreter.\n",
    "They can be used to explain more complex sections of code.\n",
    "\"\"\""
   ]
  },
  {
   "cell_type": "markdown",
   "id": "df0b4142",
   "metadata": {},
   "source": [
    "# Section 8: Input from User"
   ]
  },
  {
   "cell_type": "code",
   "execution_count": 8,
   "id": "e62e3646",
   "metadata": {},
   "outputs": [
    {
     "name": "stdout",
     "output_type": "stream",
     "text": [
      "Hello, Brahmi!\n"
     ]
    }
   ],
   "source": [
    "# You can take input from the user using the input() function.\n",
    "\n",
    "# Taking input from the user\n",
    "name = input(\"Enter your name: \")\n",
    "\n",
    "# Printing the input received from the user\n",
    "print(\"Hello, \" + name + \"!\")"
   ]
  }
 ],
 "metadata": {
  "kernelspec": {
   "display_name": "Python 3 (ipykernel)",
   "language": "python",
   "name": "python3"
  },
  "language_info": {
   "codemirror_mode": {
    "name": "ipython",
    "version": 3
   },
   "file_extension": ".py",
   "mimetype": "text/x-python",
   "name": "python",
   "nbconvert_exporter": "python",
   "pygments_lexer": "ipython3",
   "version": "3.11.5"
  }
 },
 "nbformat": 4,
 "nbformat_minor": 5
}
