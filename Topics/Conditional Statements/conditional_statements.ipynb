{
 "cells": [
  {
   "cell_type": "markdown",
   "id": "07116c0d",
   "metadata": {},
   "source": [
    "# play with boolean values"
   ]
  },
  {
   "cell_type": "markdown",
   "id": "030dc897",
   "metadata": {},
   "source": [
    "Try these:"
   ]
  },
  {
   "cell_type": "code",
   "execution_count": 1,
   "id": "47463691",
   "metadata": {},
   "outputs": [
    {
     "data": {
      "text/plain": [
       "(False, True, True, True)"
      ]
     },
     "execution_count": 1,
     "metadata": {},
     "output_type": "execute_result"
    }
   ],
   "source": [
    "False | False, True or True, True or False, False or True"
   ]
  },
  {
   "cell_type": "code",
   "execution_count": 2,
   "id": "78acb50b",
   "metadata": {},
   "outputs": [
    {
     "data": {
      "text/plain": [
       "(False, True, False, False)"
      ]
     },
     "execution_count": 2,
     "metadata": {},
     "output_type": "execute_result"
    }
   ],
   "source": [
    "False and False, True & True, True & False, False & True"
   ]
  },
  {
   "cell_type": "code",
   "execution_count": 3,
   "id": "0fe95963",
   "metadata": {},
   "outputs": [
    {
     "data": {
      "text/plain": [
       "False"
      ]
     },
     "execution_count": 3,
     "metadata": {},
     "output_type": "execute_result"
    }
   ],
   "source": [
    "False & True"
   ]
  },
  {
   "cell_type": "code",
   "execution_count": 4,
   "id": "1738329d",
   "metadata": {},
   "outputs": [
    {
     "data": {
      "text/plain": [
       "False"
      ]
     },
     "execution_count": 4,
     "metadata": {},
     "output_type": "execute_result"
    }
   ],
   "source": [
    "not True"
   ]
  },
  {
   "cell_type": "code",
   "execution_count": 5,
   "id": "b758c669",
   "metadata": {},
   "outputs": [
    {
     "data": {
      "text/plain": [
       "True"
      ]
     },
     "execution_count": 5,
     "metadata": {},
     "output_type": "execute_result"
    }
   ],
   "source": [
    "not False"
   ]
  },
  {
   "cell_type": "markdown",
   "id": "92453243",
   "metadata": {},
   "source": [
    "## not operator"
   ]
  },
  {
   "cell_type": "code",
   "execution_count": 6,
   "id": "2d0d9fcf",
   "metadata": {},
   "outputs": [
    {
     "data": {
      "text/plain": [
       "True"
      ]
     },
     "execution_count": 6,
     "metadata": {},
     "output_type": "execute_result"
    }
   ],
   "source": [
    "not False"
   ]
  },
  {
   "cell_type": "code",
   "execution_count": 7,
   "id": "1aafe829",
   "metadata": {},
   "outputs": [
    {
     "data": {
      "text/plain": [
       "True"
      ]
     },
     "execution_count": 7,
     "metadata": {},
     "output_type": "execute_result"
    }
   ],
   "source": [
    "f = False\n",
    "not f"
   ]
  },
  {
   "cell_type": "code",
   "execution_count": 8,
   "id": "daee6f47",
   "metadata": {},
   "outputs": [
    {
     "data": {
      "text/plain": [
       "False"
      ]
     },
     "execution_count": 8,
     "metadata": {},
     "output_type": "execute_result"
    }
   ],
   "source": [
    "not True"
   ]
  },
  {
   "cell_type": "code",
   "execution_count": 9,
   "id": "72ebb86c",
   "metadata": {},
   "outputs": [
    {
     "data": {
      "text/plain": [
       "False"
      ]
     },
     "execution_count": 9,
     "metadata": {},
     "output_type": "execute_result"
    }
   ],
   "source": [
    "t = True\n",
    "not t"
   ]
  },
  {
   "cell_type": "markdown",
   "id": "1ffa9081",
   "metadata": {},
   "source": [
    "## or operator"
   ]
  },
  {
   "cell_type": "code",
   "execution_count": 10,
   "id": "fe6b9be7",
   "metadata": {},
   "outputs": [
    {
     "data": {
      "text/plain": [
       "True"
      ]
     },
     "execution_count": 10,
     "metadata": {},
     "output_type": "execute_result"
    }
   ],
   "source": [
    "True or False"
   ]
  },
  {
   "cell_type": "code",
   "execution_count": 11,
   "id": "1cb33564",
   "metadata": {},
   "outputs": [
    {
     "data": {
      "text/plain": [
       "True"
      ]
     },
     "execution_count": 11,
     "metadata": {},
     "output_type": "execute_result"
    }
   ],
   "source": [
    "True | False"
   ]
  },
  {
   "cell_type": "code",
   "execution_count": 12,
   "id": "07cb4c12",
   "metadata": {},
   "outputs": [
    {
     "data": {
      "text/plain": [
       "True"
      ]
     },
     "execution_count": 12,
     "metadata": {},
     "output_type": "execute_result"
    }
   ],
   "source": [
    "True or True"
   ]
  },
  {
   "cell_type": "code",
   "execution_count": 13,
   "id": "281f397e",
   "metadata": {},
   "outputs": [
    {
     "data": {
      "text/plain": [
       "True"
      ]
     },
     "execution_count": 13,
     "metadata": {},
     "output_type": "execute_result"
    }
   ],
   "source": [
    "True | True"
   ]
  },
  {
   "cell_type": "code",
   "execution_count": 14,
   "id": "a88eb318",
   "metadata": {},
   "outputs": [
    {
     "data": {
      "text/plain": [
       "True"
      ]
     },
     "execution_count": 14,
     "metadata": {},
     "output_type": "execute_result"
    }
   ],
   "source": [
    "False or True"
   ]
  },
  {
   "cell_type": "code",
   "execution_count": 15,
   "id": "55ffe5b6",
   "metadata": {},
   "outputs": [
    {
     "data": {
      "text/plain": [
       "True"
      ]
     },
     "execution_count": 15,
     "metadata": {},
     "output_type": "execute_result"
    }
   ],
   "source": [
    "False | True"
   ]
  },
  {
   "cell_type": "code",
   "execution_count": 16,
   "id": "2adf3d17",
   "metadata": {},
   "outputs": [
    {
     "data": {
      "text/plain": [
       "False"
      ]
     },
     "execution_count": 16,
     "metadata": {},
     "output_type": "execute_result"
    }
   ],
   "source": [
    "False or False"
   ]
  },
  {
   "cell_type": "code",
   "execution_count": 17,
   "id": "9f0a2ade",
   "metadata": {},
   "outputs": [
    {
     "data": {
      "text/plain": [
       "False"
      ]
     },
     "execution_count": 17,
     "metadata": {},
     "output_type": "execute_result"
    }
   ],
   "source": [
    "False | False"
   ]
  },
  {
   "cell_type": "markdown",
   "id": "cb02420f",
   "metadata": {},
   "source": [
    "## and operator"
   ]
  },
  {
   "cell_type": "code",
   "execution_count": 18,
   "id": "8069ef4b",
   "metadata": {},
   "outputs": [
    {
     "data": {
      "text/plain": [
       "False"
      ]
     },
     "execution_count": 18,
     "metadata": {},
     "output_type": "execute_result"
    }
   ],
   "source": [
    "True and False"
   ]
  },
  {
   "cell_type": "code",
   "execution_count": 19,
   "id": "f1c22af1",
   "metadata": {},
   "outputs": [
    {
     "data": {
      "text/plain": [
       "True"
      ]
     },
     "execution_count": 19,
     "metadata": {},
     "output_type": "execute_result"
    }
   ],
   "source": [
    "True and True"
   ]
  },
  {
   "cell_type": "code",
   "execution_count": 20,
   "id": "5252328f",
   "metadata": {},
   "outputs": [
    {
     "data": {
      "text/plain": [
       "False"
      ]
     },
     "execution_count": 20,
     "metadata": {},
     "output_type": "execute_result"
    }
   ],
   "source": [
    "False and True"
   ]
  },
  {
   "cell_type": "code",
   "execution_count": 21,
   "id": "f43ef6a3",
   "metadata": {},
   "outputs": [
    {
     "data": {
      "text/plain": [
       "False"
      ]
     },
     "execution_count": 21,
     "metadata": {},
     "output_type": "execute_result"
    }
   ],
   "source": [
    "False and False"
   ]
  },
  {
   "cell_type": "code",
   "execution_count": 22,
   "id": "8f7b20a9",
   "metadata": {},
   "outputs": [
    {
     "data": {
      "text/plain": [
       "False"
      ]
     },
     "execution_count": 22,
     "metadata": {},
     "output_type": "execute_result"
    }
   ],
   "source": [
    "True & False"
   ]
  },
  {
   "cell_type": "code",
   "execution_count": 23,
   "id": "9a1e2822",
   "metadata": {},
   "outputs": [
    {
     "data": {
      "text/plain": [
       "True"
      ]
     },
     "execution_count": 23,
     "metadata": {},
     "output_type": "execute_result"
    }
   ],
   "source": [
    "True & True"
   ]
  },
  {
   "cell_type": "code",
   "execution_count": 24,
   "id": "33f1bd4d",
   "metadata": {},
   "outputs": [
    {
     "data": {
      "text/plain": [
       "False"
      ]
     },
     "execution_count": 24,
     "metadata": {},
     "output_type": "execute_result"
    }
   ],
   "source": [
    "False & True"
   ]
  },
  {
   "cell_type": "code",
   "execution_count": 25,
   "id": "28f64604",
   "metadata": {},
   "outputs": [
    {
     "data": {
      "text/plain": [
       "False"
      ]
     },
     "execution_count": 25,
     "metadata": {},
     "output_type": "execute_result"
    }
   ],
   "source": [
    "False & False"
   ]
  },
  {
   "cell_type": "markdown",
   "id": "e63a8a22",
   "metadata": {},
   "source": [
    "## combining not, or operators"
   ]
  },
  {
   "cell_type": "code",
   "execution_count": 26,
   "id": "26375b0d",
   "metadata": {},
   "outputs": [
    {
     "data": {
      "text/plain": [
       "True"
      ]
     },
     "execution_count": 26,
     "metadata": {},
     "output_type": "execute_result"
    }
   ],
   "source": [
    "not (not (True or False))"
   ]
  },
  {
   "cell_type": "code",
   "execution_count": 27,
   "id": "850d0ed2",
   "metadata": {},
   "outputs": [
    {
     "data": {
      "text/plain": [
       "False"
      ]
     },
     "execution_count": 27,
     "metadata": {},
     "output_type": "execute_result"
    }
   ],
   "source": [
    "not (True or True)"
   ]
  },
  {
   "cell_type": "code",
   "execution_count": 28,
   "id": "56834a94",
   "metadata": {},
   "outputs": [
    {
     "data": {
      "text/plain": [
       "False"
      ]
     },
     "execution_count": 28,
     "metadata": {},
     "output_type": "execute_result"
    }
   ],
   "source": [
    "not (False or True)"
   ]
  },
  {
   "cell_type": "code",
   "execution_count": 29,
   "id": "4b0c49ed",
   "metadata": {},
   "outputs": [
    {
     "data": {
      "text/plain": [
       "True"
      ]
     },
     "execution_count": 29,
     "metadata": {},
     "output_type": "execute_result"
    }
   ],
   "source": [
    "not (False or False)"
   ]
  },
  {
   "cell_type": "markdown",
   "id": "3b06cd56",
   "metadata": {},
   "source": [
    "## combining not, and operators"
   ]
  },
  {
   "cell_type": "code",
   "execution_count": 30,
   "id": "4e8df505",
   "metadata": {},
   "outputs": [
    {
     "data": {
      "text/plain": [
       "False"
      ]
     },
     "execution_count": 30,
     "metadata": {},
     "output_type": "execute_result"
    }
   ],
   "source": [
    "not (True)"
   ]
  },
  {
   "cell_type": "code",
   "execution_count": 31,
   "id": "3a6cd019",
   "metadata": {},
   "outputs": [
    {
     "data": {
      "text/plain": [
       "True"
      ]
     },
     "execution_count": 31,
     "metadata": {},
     "output_type": "execute_result"
    }
   ],
   "source": [
    "not (True and False)"
   ]
  },
  {
   "cell_type": "code",
   "execution_count": 32,
   "id": "a6536b1e",
   "metadata": {},
   "outputs": [
    {
     "data": {
      "text/plain": [
       "False"
      ]
     },
     "execution_count": 32,
     "metadata": {},
     "output_type": "execute_result"
    }
   ],
   "source": [
    "not (True and True)"
   ]
  },
  {
   "cell_type": "code",
   "execution_count": 33,
   "id": "eaea4976",
   "metadata": {},
   "outputs": [
    {
     "data": {
      "text/plain": [
       "True"
      ]
     },
     "execution_count": 33,
     "metadata": {},
     "output_type": "execute_result"
    }
   ],
   "source": [
    "not (False and True)"
   ]
  },
  {
   "cell_type": "code",
   "execution_count": 34,
   "id": "2fbd826f",
   "metadata": {},
   "outputs": [
    {
     "data": {
      "text/plain": [
       "True"
      ]
     },
     "execution_count": 34,
     "metadata": {},
     "output_type": "execute_result"
    }
   ],
   "source": [
    "not (False and False)"
   ]
  },
  {
   "cell_type": "markdown",
   "id": "5426e5d3",
   "metadata": {},
   "source": [
    "## equality operator"
   ]
  },
  {
   "cell_type": "code",
   "execution_count": 35,
   "id": "a8a7f97b",
   "metadata": {},
   "outputs": [
    {
     "data": {
      "text/plain": [
       "2"
      ]
     },
     "execution_count": 35,
     "metadata": {},
     "output_type": "execute_result"
    }
   ],
   "source": [
    "# assign 2 to variable x\n",
    "x = 2\n",
    "x"
   ]
  },
  {
   "cell_type": "code",
   "execution_count": 36,
   "id": "70ba043a",
   "metadata": {},
   "outputs": [
    {
     "data": {
      "text/plain": [
       "True"
      ]
     },
     "execution_count": 36,
     "metadata": {},
     "output_type": "execute_result"
    }
   ],
   "source": [
    "# check if x has value of 2\n",
    "x == 2"
   ]
  },
  {
   "cell_type": "code",
   "execution_count": 37,
   "id": "0059dfa9",
   "metadata": {},
   "outputs": [
    {
     "data": {
      "text/plain": [
       "False"
      ]
     },
     "execution_count": 37,
     "metadata": {},
     "output_type": "execute_result"
    }
   ],
   "source": [
    "3 == 2"
   ]
  },
  {
   "cell_type": "code",
   "execution_count": 38,
   "id": "40df005e",
   "metadata": {},
   "outputs": [
    {
     "data": {
      "text/plain": [
       "True"
      ]
     },
     "execution_count": 38,
     "metadata": {},
     "output_type": "execute_result"
    }
   ],
   "source": [
    "2 == 2"
   ]
  },
  {
   "cell_type": "code",
   "execution_count": 39,
   "id": "6560faa5",
   "metadata": {},
   "outputs": [
    {
     "data": {
      "text/plain": [
       "False"
      ]
     },
     "execution_count": 39,
     "metadata": {},
     "output_type": "execute_result"
    }
   ],
   "source": [
    "2 == 3"
   ]
  },
  {
   "cell_type": "markdown",
   "id": "4ade3183",
   "metadata": {},
   "source": [
    "### equality operator:   variables on one side or both sides"
   ]
  },
  {
   "cell_type": "code",
   "execution_count": 40,
   "id": "30fd0958",
   "metadata": {},
   "outputs": [
    {
     "data": {
      "text/plain": [
       "True"
      ]
     },
     "execution_count": 40,
     "metadata": {},
     "output_type": "execute_result"
    }
   ],
   "source": [
    "share_52_wk_high = 3200\n",
    "today_share_price = 3200\n",
    "today_share_price == share_52_wk_high"
   ]
  },
  {
   "cell_type": "code",
   "execution_count": 41,
   "id": "fc670307",
   "metadata": {},
   "outputs": [
    {
     "data": {
      "text/plain": [
       "True"
      ]
     },
     "execution_count": 41,
     "metadata": {},
     "output_type": "execute_result"
    }
   ],
   "source": [
    "today_share_price == 3200"
   ]
  },
  {
   "cell_type": "code",
   "execution_count": 42,
   "id": "23a36af4",
   "metadata": {},
   "outputs": [
    {
     "data": {
      "text/plain": [
       "True"
      ]
     },
     "execution_count": 42,
     "metadata": {},
     "output_type": "execute_result"
    }
   ],
   "source": [
    "# avoid this, as convention\n",
    "3200 == today_share_price"
   ]
  },
  {
   "cell_type": "code",
   "execution_count": 43,
   "id": "c4642ba5",
   "metadata": {},
   "outputs": [
    {
     "data": {
      "text/plain": [
       "False"
      ]
     },
     "execution_count": 43,
     "metadata": {},
     "output_type": "execute_result"
    }
   ],
   "source": [
    "share_52_wk_high = 3200\n",
    "share_52_wk_low = 2000\n",
    "today_share_price = 2000\n",
    "today_share_price == share_52_wk_high"
   ]
  },
  {
   "cell_type": "code",
   "execution_count": 44,
   "id": "716a8a17",
   "metadata": {},
   "outputs": [
    {
     "data": {
      "text/plain": [
       "True"
      ]
     },
     "execution_count": 44,
     "metadata": {},
     "output_type": "execute_result"
    }
   ],
   "source": [
    "n = 20\n",
    "# this is not normally used by it is still legal\n",
    "20 == n\n",
    "# if there is a variable and value in such an operation, variable is on the left side\n",
    "# correct way\n",
    "n == 20"
   ]
  },
  {
   "cell_type": "markdown",
   "id": "53b45e9b",
   "metadata": {},
   "source": [
    "## not equal operator"
   ]
  },
  {
   "cell_type": "code",
   "execution_count": 45,
   "id": "95774dd2",
   "metadata": {},
   "outputs": [
    {
     "data": {
      "text/plain": [
       "True"
      ]
     },
     "execution_count": 45,
     "metadata": {},
     "output_type": "execute_result"
    }
   ],
   "source": [
    "5 >= 4"
   ]
  },
  {
   "cell_type": "code",
   "execution_count": 46,
   "id": "892259cf",
   "metadata": {},
   "outputs": [
    {
     "data": {
      "text/plain": [
       "True"
      ]
     },
     "execution_count": 46,
     "metadata": {},
     "output_type": "execute_result"
    }
   ],
   "source": [
    "5 != 4"
   ]
  },
  {
   "cell_type": "code",
   "execution_count": 47,
   "id": "1f974868",
   "metadata": {},
   "outputs": [
    {
     "data": {
      "text/plain": [
       "False"
      ]
     },
     "execution_count": 47,
     "metadata": {},
     "output_type": "execute_result"
    }
   ],
   "source": [
    "5 != 5"
   ]
  },
  {
   "cell_type": "markdown",
   "id": "fb4e1b36",
   "metadata": {},
   "source": [
    "### using variables and values"
   ]
  },
  {
   "cell_type": "code",
   "execution_count": 48,
   "id": "9b6ae063",
   "metadata": {},
   "outputs": [
    {
     "data": {
      "text/plain": [
       "True"
      ]
     },
     "execution_count": 48,
     "metadata": {},
     "output_type": "execute_result"
    }
   ],
   "source": [
    "# Olympic champion Neeraj Chopra throws Javelin 89.3 m in a practice session\n",
    "# he held the previous national record of 88.07m\n",
    "last_throw =89.3\n",
    "national_record = 88.07\n",
    "\n",
    "# check if his last throw matched his previous record\n",
    "last_throw >= national_record"
   ]
  },
  {
   "cell_type": "markdown",
   "id": "3219f1ee",
   "metadata": {},
   "source": [
    "## scenarion exercise: use equality operator in KYC"
   ]
  },
  {
   "cell_type": "code",
   "execution_count": 49,
   "id": "9dd3c213",
   "metadata": {},
   "outputs": [],
   "source": [
    "# Try this. \n",
    "# Create variable to store the customer name as written in the form. \n",
    "# Create another variable for name as in Aadhar card\n",
    "# compare them using equality operator as part an imaginary KYC process"
   ]
  },
  {
   "cell_type": "code",
   "execution_count": 50,
   "id": "4587cdd1",
   "metadata": {},
   "outputs": [
    {
     "data": {
      "text/plain": [
       "False"
      ]
     },
     "execution_count": 50,
     "metadata": {},
     "output_type": "execute_result"
    }
   ],
   "source": [
    "name_in_form = \"Sri Krishna\"\n",
    "name_in_aadhar = \"sri krishna\"\n",
    "name_in_aadhar == name_in_form"
   ]
  },
  {
   "cell_type": "code",
   "execution_count": 51,
   "id": "942c7476",
   "metadata": {},
   "outputs": [
    {
     "data": {
      "text/plain": [
       "False"
      ]
     },
     "execution_count": 51,
     "metadata": {},
     "output_type": "execute_result"
    }
   ],
   "source": [
    "name_in_form = \"Sri Krishna\"\n",
    "name_in_aadhar = \"Srikrishna\" \n",
    "# kyc step\n",
    "name_in_form == name_in_aadhar"
   ]
  },
  {
   "cell_type": "code",
   "execution_count": 52,
   "id": "868ee7a3",
   "metadata": {},
   "outputs": [],
   "source": [
    "# try editing the texts using upper case, lower case, space, a minor type where you use 0 instead of O"
   ]
  },
  {
   "cell_type": "markdown",
   "id": "69d52714",
   "metadata": {},
   "source": [
    "#### if a string value is created using double quotes and the same value with single quotes, are they equal?"
   ]
  },
  {
   "cell_type": "code",
   "execution_count": 54,
   "id": "35afef36",
   "metadata": {},
   "outputs": [
    {
     "data": {
      "text/plain": [
       "True"
      ]
     },
     "execution_count": 54,
     "metadata": {},
     "output_type": "execute_result"
    }
   ],
   "source": [
    "name_in_form = 'Srikrishna'\n",
    "name_in_aadhar = \"Srikrishna\" \n",
    "# kyc step\n",
    "name_in_form == name_in_aadhar"
   ]
  },
  {
   "cell_type": "markdown",
   "id": "2bd1df42",
   "metadata": {},
   "source": [
    "## operators for greater than, less than, greater than or equal to, less than or equal to"
   ]
  },
  {
   "cell_type": "code",
   "execution_count": 55,
   "id": "89dbb4c1",
   "metadata": {},
   "outputs": [
    {
     "data": {
      "text/plain": [
       "True"
      ]
     },
     "execution_count": 55,
     "metadata": {},
     "output_type": "execute_result"
    }
   ],
   "source": [
    "# Olympic champion Neeraj Chopra throws Javelin 89.3 m in a practice session\n",
    "# he held the previous national record of 88.07m\n",
    "# check if his last throw beat his previous record\n",
    "last_throw =89.3\n",
    "national_record = 88.07\n",
    "\n",
    "last_throw > national_record"
   ]
  },
  {
   "cell_type": "code",
   "execution_count": 56,
   "id": "ad8bdba3",
   "metadata": {},
   "outputs": [
    {
     "data": {
      "text/plain": [
       "(True, True, False)"
      ]
     },
     "execution_count": 56,
     "metadata": {},
     "output_type": "execute_result"
    }
   ],
   "source": [
    "# create a variable for admission cut_off in Delhi University i.e. if a student scores cut-off or more\n",
    "# then student is eligible for the admission\n",
    "cut_off = 95\n",
    "# create a three variables to hold marks of three different students\n",
    "marks_A = 96\n",
    "marks_B = 95\n",
    "marks_C = 75\n",
    "# check if each student is eligible or not\n",
    "marks_A >= cut_off, marks_B >= cut_off, marks_C >= cut_off"
   ]
  },
  {
   "cell_type": "code",
   "execution_count": 57,
   "id": "3d0168cd",
   "metadata": {},
   "outputs": [
    {
     "data": {
      "text/plain": [
       "False"
      ]
     },
     "execution_count": 57,
     "metadata": {},
     "output_type": "execute_result"
    }
   ],
   "source": [
    "# Banks approve loans if the EMI due is less than half of the applicant's take home salary per month\n",
    "# create a variable for take home salary\n",
    "take_home_salary = 100\n",
    "# create a variable for EMI\n",
    "EMI_due = 55\n",
    "\n",
    "# check if the applicant can be granted the loan\n",
    "EMI_due < take_home_salary * 0.5"
   ]
  },
  {
   "cell_type": "markdown",
   "id": "774e68b0",
   "metadata": {},
   "source": [
    "# IF statement"
   ]
  },
  {
   "cell_type": "code",
   "execution_count": 60,
   "id": "5e8e1d14",
   "metadata": {},
   "outputs": [
    {
     "name": "stdout",
     "output_type": "stream",
     "text": [
      "is less than 3\n"
     ]
    }
   ],
   "source": [
    "x = 1\n",
    "if (x>=3):\n",
    "    print('is equal or greater than 3')\n",
    "else:\n",
    "    print('is less than 3')"
   ]
  },
  {
   "cell_type": "code",
   "execution_count": null,
   "id": "19d057cb",
   "metadata": {},
   "outputs": [
    {
     "name": "stdout",
     "output_type": "stream",
     "text": [
      "loan can be approved\n"
     ]
    }
   ],
   "source": [
    "take_home_pay = 100\n",
    "EMI = 48\n",
    "if (EMI < 0.5 * take_home_pay):\n",
    "    print('loan can be approved')\n",
    "else:\n",
    "    print('loan cannot be approved')"
   ]
  },
  {
   "cell_type": "code",
   "execution_count": null,
   "id": "86e4fdd0",
   "metadata": {},
   "outputs": [
    {
     "name": "stdout",
     "output_type": "stream",
     "text": [
      "congrats! admitted to the course\n"
     ]
    }
   ],
   "source": [
    "marks = 99\n",
    "cutoff = 98\n",
    "if (marks >= cutoff):\n",
    "    print('congrats! admitted to the course')\n",
    "else:\n",
    "    print('sorry! not admitted to the course')"
   ]
  },
  {
   "cell_type": "code",
   "execution_count": null,
   "id": "f0535e28",
   "metadata": {},
   "outputs": [
    {
     "name": "stdout",
     "output_type": "stream",
     "text": [
      "this will show only in else path\n",
      "is less than 3\n"
     ]
    }
   ],
   "source": [
    "x = 1\n",
    "if (x>=3):\n",
    "    print('is equal or greater than 3')\n",
    "    print(\"this will show only in if path\")\n",
    "else:\n",
    "    print(\"this will show only in else path\")\n",
    "    print('is less than 3')"
   ]
  },
  {
   "cell_type": "code",
   "execution_count": 62,
   "id": "3c02287e",
   "metadata": {},
   "outputs": [
    {
     "name": "stdout",
     "output_type": "stream",
     "text": [
      "BMI: 22.20\n",
      "Category: Normal weight\n"
     ]
    }
   ],
   "source": [
    "# create variables for height in m and weight in kgs\n",
    "# calculate bmi and store it in a new variable\n",
    "# compare this bmi with the cut-offs for underweight, normal, overweight, obese\n",
    "\n",
    "# Create variables for height in meters and weight in kilograms\n",
    "height_m = 1.75  # example height in meters\n",
    "weight_kg = 68   # example weight in kilograms\n",
    "\n",
    "# Calculate BMI and store it in a new variable\n",
    "bmi = weight_kg / (height_m ** 2)\n",
    "\n",
    "# Compare BMI with the cut-offs for underweight, normal, overweight, obese\n",
    "if bmi < 18.5:\n",
    "    category = \"Underweight\"\n",
    "elif 18.5 <= bmi < 24.9:\n",
    "    category = \"Normal weight\"\n",
    "elif 25 <= bmi < 29.9:\n",
    "    category = \"Overweight\"\n",
    "else:\n",
    "    category = \"Obese\"\n",
    "\n",
    "# Print the BMI and the corresponding category\n",
    "print(f\"BMI: {bmi:.2f}\")\n",
    "print(f\"Category: {category}\")\n"
   ]
  },
  {
   "cell_type": "code",
   "execution_count": null,
   "id": "b9ee7d1a",
   "metadata": {},
   "outputs": [
    {
     "name": "stdout",
     "output_type": "stream",
     "text": [
      "A\n",
      "Pass\n",
      "B\n",
      "Pass\n",
      "C\n",
      "Fail\n"
     ]
    }
   ],
   "source": [
    "# typically pass marks in exams are 40. therefore if a student score 39 or less, the result is fail\n",
    "# create three variables for storing three students' marks\n",
    "# check each if it is 39 or less\n",
    "\n",
    "marks_A = 90\n",
    "marks_B = 75\n",
    "marks_C = 25\n",
    "\n",
    "# check result of A\n",
    "print(\"A\")\n",
    "if (marks_A >= 40):\n",
    "    print(\"Pass\")\n",
    "else:\n",
    "    print('Fail')\n",
    "\n",
    "# check result of B\n",
    "print(\"B\")\n",
    "if (marks_B < 40):\n",
    "    print('Fail')\n",
    "else:\n",
    "    print('Pass')\n",
    "\n",
    "# check result of C\n",
    "print(\"C\")\n",
    "if (marks_C <= 39):\n",
    "    print('Fail')\n",
    "else:\n",
    "    print('Pass')\n",
    "    "
   ]
  },
  {
   "cell_type": "code",
   "execution_count": 63,
   "id": "1bc150dd",
   "metadata": {},
   "outputs": [
    {
     "name": "stdout",
     "output_type": "stream",
     "text": [
      "Using <= 39: Marks: 78, Result: Pass\n",
      "Using < 40: Marks: 78, Result: Pass\n"
     ]
    }
   ],
   "source": [
    "# writing the same check in different ways\n",
    "# consider the previous exercise related to pass marks of 40.\n",
    "# create a variable to store marks, say the student scored 78\n",
    "# we can test for Fail result using <= 39\n",
    "# or Fail result as < 40\n",
    "\n",
    "# Using <= 39 to check for fail result\n",
    "marks = 78  # Example marks\n",
    "\n",
    "# Check for fail result using <= 39\n",
    "if marks <= 39:\n",
    "    result = \"Fail\"\n",
    "else:\n",
    "    result = \"Pass\"\n",
    "print(f\"Using <= 39: Marks: {marks}, Result: {result}\")\n",
    "\n",
    "# Check for fail result using < 40\n",
    "if marks < 40:\n",
    "    result = \"Fail\"\n",
    "else:\n",
    "    result = \"Pass\"\n",
    "print(f\"Using < 40: Marks: {marks}, Result: {result}\")\n"
   ]
  },
  {
   "cell_type": "code",
   "execution_count": 64,
   "id": "661f2e48",
   "metadata": {},
   "outputs": [
    {
     "name": "stdout",
     "output_type": "stream",
     "text": [
      "Number: 42, Is Even: True\n"
     ]
    }
   ],
   "source": [
    "# Even numbers are divisible by 2. This means the remainder from a division by 2 is zero.\n",
    "# create a variable to hold a number. how can we check if this number is an even number?\n",
    "\n",
    "number = 42  # Example number\n",
    "\n",
    "# Check if the number is an even number\n",
    "if number % 2 == 0:\n",
    "    is_even = True\n",
    "else:\n",
    "    is_even = False\n",
    "print(f\"Number: {number}, Is Even: {is_even}\")\n"
   ]
  },
  {
   "cell_type": "code",
   "execution_count": 65,
   "id": "0591ab19",
   "metadata": {},
   "outputs": [
    {
     "name": "stdout",
     "output_type": "stream",
     "text": [
      "Number: 49, Is Divisible by 7: True\n"
     ]
    }
   ],
   "source": [
    "# create a variable to hold a number\n",
    "# can you check if this number is divisible by 7?\n",
    "\n",
    "number = 49  # Example number\n",
    "\n",
    "# Check if the number is divisible by 7\n",
    "if number % 7 == 0:\n",
    "    is_divisible_by_7 = True\n",
    "else:\n",
    "    is_divisible_by_7 = False\n",
    "print(f\"Number: {number}, Is Divisible by 7: {is_divisible_by_7}\")"
   ]
  },
  {
   "cell_type": "code",
   "execution_count": 66,
   "id": "ab80d1e9",
   "metadata": {},
   "outputs": [
    {
     "name": "stdout",
     "output_type": "stream",
     "text": [
      "Using == 7: Var: 7, Equals 7: True\n",
      "Using not ((var < 7) or (var > 7)): Var: 8, Equals 7 (alternative check): False\n"
     ]
    }
   ],
   "source": [
    "# we saw that there may be more than one way of expressing a statement\n",
    "# if there is a variable and we want to check of its value equals a number, say 7, we can use var == 7\n",
    "# are there other ways of stating this?\n",
    "\n",
    "# Using == 7\n",
    "var = 7\n",
    "\n",
    "# Check if var equals 7\n",
    "is_equal_to_7 = (var == 7)\n",
    "print(f\"Using == 7: Var: {var}, Equals 7: {is_equal_to_7}\")\n",
    "\n",
    "# Using not ((var < 7) or (var > 7))\n",
    "var = 8\n",
    "\n",
    "# Check if var equals 7 using an alternative expression\n",
    "is_equal_to_7_alternative = not ((var < 7) or (var > 7))\n",
    "print(f\"Using not ((var < 7) or (var > 7)): Var: {var}, Equals 7 (alternative check): {is_equal_to_7_alternative}\")"
   ]
  },
  {
   "cell_type": "code",
   "execution_count": 67,
   "id": "137c35fa",
   "metadata": {},
   "outputs": [
    {
     "data": {
      "text/plain": [
       "False"
      ]
     },
     "execution_count": 67,
     "metadata": {},
     "output_type": "execute_result"
    }
   ],
   "source": [
    "# create the variable and assign \n",
    "var = 8\n",
    "not ((var < 7) or (var > 7)) "
   ]
  },
  {
   "cell_type": "code",
   "execution_count": 68,
   "id": "5881bdc1",
   "metadata": {},
   "outputs": [
    {
     "name": "stdout",
     "output_type": "stream",
     "text": [
      "Marks: 78, Result: Pass\n"
     ]
    }
   ],
   "source": [
    "# in the earlier exercises, we focused on evaluating boolean expressions as True or False.\n",
    "# the IF statement uses this to decide the next lines to execute\n",
    "\n",
    "marks = 78  # Example marks\n",
    "\n",
    "# Using an IF statement to decide the result\n",
    "if marks >= 40:\n",
    "    result = \"Pass\"\n",
    "else:\n",
    "    result = \"Fail\"\n",
    "print(f\"Marks: {marks}, Result: {result}\")"
   ]
  },
  {
   "cell_type": "code",
   "execution_count": null,
   "id": "796e88f7",
   "metadata": {},
   "outputs": [
    {
     "name": "stdout",
     "output_type": "stream",
     "text": [
      "True\n"
     ]
    }
   ],
   "source": [
    "# there is one more way of writing this\n",
    "\n",
    "marks = 78\n",
    "result = \"\"\n",
    "\n",
    "if (marks < 40):\n",
    "    result = \"Fail\"\n",
    "\n",
    "if (marks >= 40):\n",
    "    result = \"True\"\n",
    "print(result)"
   ]
  },
  {
   "cell_type": "code",
   "execution_count": 69,
   "id": "c6c21352",
   "metadata": {},
   "outputs": [
    {
     "name": "stdout",
     "output_type": "stream",
     "text": [
      "Marks: 78, Classification: Distinction\n"
     ]
    }
   ],
   "source": [
    "# in universities, the following classifications are used: < 40 Fail, 40-59 is Pass, 60-74 First Class\n",
    "# 75 or more is Distinction\n",
    "# can you implement this as a series of if statements?\n",
    "\n",
    "# Create a variable to store marks\n",
    "marks = 78  # Example marks\n",
    "\n",
    "# Check the classification based on the marks\n",
    "if marks < 40:\n",
    "    classification = \"Fail\"\n",
    "elif 40 <= marks <= 59:\n",
    "    classification = \"Pass\"\n",
    "elif 60 <= marks <= 74:\n",
    "    classification = \"First Class\"\n",
    "elif marks >= 75:\n",
    "    classification = \"Distinction\"\n",
    "\n",
    "# Print the marks and the corresponding classification\n",
    "print(f\"Marks: {marks}, Classification: {classification}\")"
   ]
  },
  {
   "cell_type": "code",
   "execution_count": 70,
   "id": "2ec76266",
   "metadata": {},
   "outputs": [
    {
     "name": "stdout",
     "output_type": "stream",
     "text": [
      "19.37919743392696\n",
      "normal\n"
     ]
    }
   ],
   "source": [
    "# Exercise\n",
    "# can you write interpretation of BMI as a series of if statements?\n",
    "\n",
    "weight = float(input(\"Enter weight in Kgs: \"))\n",
    "height = float(input(\"Enter height in cm: \"))\n",
    "ht_in_meters = height / 100\n",
    "BMI = weight / (ht_in_meters **2)\n",
    "print(BMI)\n",
    "\n",
    "if (BMI < 18.4):\n",
    "    print(\"under weight\")\n",
    "elif (BMI <= 24.9):\n",
    "    print(\"normal\")\n",
    "elif (BMI <= 29.9):\n",
    "    print(\"overweight\")\n",
    "else:\n",
    "    print(\"obese\")"
   ]
  },
  {
   "cell_type": "code",
   "execution_count": null,
   "id": "471eb1d1",
   "metadata": {},
   "outputs": [
    {
     "data": {
      "text/plain": [
       "True"
      ]
     },
     "execution_count": 37,
     "metadata": {},
     "output_type": "execute_result"
    }
   ],
   "source": [
    "bmi = 29.1\n",
    "bmi > 29 and bmi < 29.2"
   ]
  },
  {
   "cell_type": "code",
   "execution_count": null,
   "id": "d18a503c",
   "metadata": {},
   "outputs": [
    {
     "name": "stdout",
     "output_type": "stream",
     "text": [
      "2\n"
     ]
    }
   ],
   "source": [
    "# social media applications recommend new users to connect with. \n",
    "# For e.g. LinkedIn suggests new connections.\n",
    "# an imaginary social media app considers users as teens and adults\n",
    "# compares their base country\n",
    "# if there is a match of both then makes recommendations\n",
    "# create variables for two users: their age, their country\n",
    "# compare them and if there is a match, print the result\n",
    "\n",
    "# user 1\n",
    "age_1 = 20\n",
    "country_1 = \"India\"\n",
    "# user 2\n",
    "age_2 = 23\n",
    "country_2 = \"India\"\n",
    "\n",
    "score = 0\n",
    "if (age_1 < 13) or (age_2 < 13):\n",
    "    score = -1\n",
    "# check if users are in same age group\n",
    "elif (age_1 < 18) and (age_2 < 18):\n",
    "    score = score + 1\n",
    "elif (age_1 >= 18) and (age_2 >= 18):\n",
    "    score = score + 1\n",
    "\n",
    "if (country_1 == country_2):\n",
    "    score = score + 1\n",
    "\n",
    "print(score)"
   ]
  },
  {
   "cell_type": "code",
   "execution_count": 71,
   "id": "755569ef",
   "metadata": {},
   "outputs": [
    {
     "name": "stdout",
     "output_type": "stream",
     "text": [
      "match\n"
     ]
    }
   ],
   "source": [
    "# User 1\n",
    "age_1 = 20\n",
    "country_1 = \"India\"\n",
    "\n",
    "# User 2\n",
    "age_2 = 23\n",
    "country_2 = \"India\"\n",
    "\n",
    "# Check the conditions\n",
    "if ((country_1 == country_2) and (age_1 < 18) and (age_2 < 18)):\n",
    "    print(\"match\")\n",
    "elif (country_1 == country_2) and (age_1 >= 18) and (age_2 >= 18):\n",
    "    print(\"match\")\n",
    "else:\n",
    "    print(\"no match\")\n"
   ]
  },
  {
   "cell_type": "code",
   "execution_count": null,
   "id": "c3f0fc69",
   "metadata": {},
   "outputs": [
    {
     "name": "stdout",
     "output_type": "stream",
     "text": [
      "no match\n"
     ]
    }
   ],
   "source": [
    "# user 1\n",
    "age_1 = 15\n",
    "country_1 = \"India\"\n",
    "# user 2\n",
    "age_2 = 23\n",
    "country_2 = \"India\"\n",
    "\n",
    "# check if users are in same age group\n",
    "score = 0\n",
    "if (age_1 < 20) and (age_2 < 20):\n",
    "    score = score + 1\n",
    "if (age_1 >= 20) and (age_2 >= 20):\n",
    "    score = score + 1\n",
    "if (country_1 == country_2):\n",
    "    score = score + 1\n",
    "\n",
    "if score < 0:\n",
    "    print(\"underage\")\n",
    "elif score <= 1:\n",
    "    print(\"no match\")\n",
    "elif (score == 2):\n",
    "    print(\"match\")"
   ]
  },
  {
   "cell_type": "code",
   "execution_count": null,
   "id": "48ddb014",
   "metadata": {},
   "outputs": [
    {
     "name": "stdout",
     "output_type": "stream",
     "text": [
      "Hello\n"
     ]
    }
   ],
   "source": [
    "# what will be the result of this statement?\n",
    "\n",
    "if (True):\n",
    "    print(\"Hello\")\n",
    "else:\n",
    "    print(\"Hi\")"
   ]
  },
  {
   "cell_type": "code",
   "execution_count": null,
   "id": "b5e68ac5",
   "metadata": {},
   "outputs": [
    {
     "name": "stdout",
     "output_type": "stream",
     "text": [
      "it is a positive number\n"
     ]
    }
   ],
   "source": [
    "# short version of if statement\n",
    "\n",
    "num = 4\n",
    "if num > 0: print(\"it is a positive number\")"
   ]
  },
  {
   "cell_type": "code",
   "execution_count": null,
   "id": "d31db5c4",
   "metadata": {},
   "outputs": [
    {
     "name": "stdout",
     "output_type": "stream",
     "text": [
      "positive\n"
     ]
    }
   ],
   "source": [
    "# short version of else statement\n",
    "num = 4\n",
    "print(\"negative\") if num <= 0 else print(\"it is a positive number\")"
   ]
  },
  {
   "cell_type": "code",
   "execution_count": null,
   "id": "5626cca3",
   "metadata": {},
   "outputs": [
    {
     "data": {
      "text/plain": [
       "'fail'"
      ]
     },
     "execution_count": 85,
     "metadata": {},
     "output_type": "execute_result"
    }
   ],
   "source": [
    "marks = 10\n",
    "\"pass\" if marks >= 39 else \"fail\""
   ]
  },
  {
   "cell_type": "code",
   "execution_count": 72,
   "id": "bb9e2fe3",
   "metadata": {},
   "outputs": [],
   "source": [
    "x = 5 if x == 0 else 5"
   ]
  },
  {
   "cell_type": "code",
   "execution_count": null,
   "id": "c7d2e27d",
   "metadata": {},
   "outputs": [
    {
     "data": {
      "text/plain": [
       "5"
      ]
     },
     "execution_count": 89,
     "metadata": {},
     "output_type": "execute_result"
    }
   ],
   "source": [
    "x"
   ]
  },
  {
   "cell_type": "code",
   "execution_count": 73,
   "id": "a2d69e34",
   "metadata": {},
   "outputs": [
    {
     "name": "stdout",
     "output_type": "stream",
     "text": [
      "Enter your name:\n",
      "Hello, Jay\n"
     ]
    }
   ],
   "source": [
    "# input from user\n",
    "print('Enter your name:')\n",
    "x = input()\n",
    "print('Hello, ' + x)"
   ]
  },
  {
   "cell_type": "code",
   "execution_count": 74,
   "id": "06c19191",
   "metadata": {},
   "outputs": [
    {
     "name": "stdout",
     "output_type": "stream",
     "text": [
      "Welcome Agent Smith\n",
      "Welcome Agent Johnson\n",
      "Welcome Agent Brown\n",
      "Invalid passcode\n"
     ]
    }
   ],
   "source": [
    "# Exercise:\n",
    "# A country set up this protocol for their spies. Their field agents will call a toll free number.\n",
    "# They will get a harmless voice message that says it is The Nowhere Travel company and asks them to leave a message.\n",
    "# In response the caller states their passcode.\n",
    "# if the passcode is a valid one, a human operator comes online and greets them with their name\n",
    "# In this elite team, there are only three agents alive now. Imagine names, passcodes and implement this.\n",
    "# use only if statements\n",
    "\n",
    "def spy_protocol(passcode):\n",
    "    if passcode == \"Alpha123\":\n",
    "        return \"Welcome Agent Smith\"\n",
    "    elif passcode == \"Beta456\":\n",
    "        return \"Welcome Agent Johnson\"\n",
    "    elif passcode == \"Gamma789\":\n",
    "        return \"Welcome Agent Brown\"\n",
    "    else:\n",
    "        return \"Invalid passcode\"\n",
    "\n",
    "# Test cases\n",
    "print(spy_protocol(\"Alpha123\"))\n",
    "print(spy_protocol(\"Beta456\"))\n",
    "print(spy_protocol(\"Gamma789\"))\n",
    "print(spy_protocol(\"Delta000\"))\n"
   ]
  },
  {
   "cell_type": "code",
   "execution_count": 75,
   "id": "abbeb1ca",
   "metadata": {},
   "outputs": [
    {
     "name": "stdout",
     "output_type": "stream",
     "text": [
      "Welcome Agent Smith\n",
      "Welcome Agent Johnson\n",
      "Welcome Agent Brown\n",
      "Invalid passcode\n"
     ]
    }
   ],
   "source": [
    "# Exercise:\n",
    "# implement the previous scenario using if-elif statements\n",
    "\n",
    "def spy_protocol(passcode):\n",
    "    if passcode == \"Alpha123\":\n",
    "        return \"Welcome Agent Smith\"\n",
    "    elif passcode == \"Beta456\":\n",
    "        return \"Welcome Agent Johnson\"\n",
    "    elif passcode == \"Gamma789\":\n",
    "        return \"Welcome Agent Brown\"\n",
    "    else:\n",
    "        return \"Invalid passcode\"\n",
    "\n",
    "# Test cases\n",
    "print(spy_protocol(\"Alpha123\"))\n",
    "print(spy_protocol(\"Beta456\"))\n",
    "print(spy_protocol(\"Gamma789\"))\n",
    "print(spy_protocol(\"Delta000\"))\n"
   ]
  },
  {
   "cell_type": "code",
   "execution_count": 76,
   "id": "27491bb1",
   "metadata": {},
   "outputs": [
    {
     "name": "stdout",
     "output_type": "stream",
     "text": [
      "Focus on your home and family.\n"
     ]
    }
   ],
   "source": [
    "#Exercise: \n",
    "# ask for sunsign from user, based on the input print one line prediction for the day\n",
    "\n",
    "sun_sign = input(\"Enter your sun sign: \").lower()\n",
    "\n",
    "if sun_sign == \"aries\":\n",
    "    print(\"Today is a good day to start something new.\")\n",
    "elif sun_sign == \"taurus\":\n",
    "    print(\"Patience will be your best friend today.\")\n",
    "elif sun_sign == \"gemini\":\n",
    "    print(\"Expect some surprising news.\")\n",
    "elif sun_sign == \"cancer\":\n",
    "    print(\"Focus on your home and family.\")\n",
    "elif sun_sign == \"leo\":\n",
    "    print(\"Your charisma will attract people today.\")\n",
    "elif sun_sign == \"virgo\":\n",
    "    print(\"Attention to detail will pay off.\")\n",
    "elif sun_sign == \"libra\":\n",
    "    print(\"Seek balance in your relationships.\")\n",
    "elif sun_sign == \"scorpio\":\n",
    "    print(\"Trust your intuition.\")\n",
    "elif sun_sign == \"sagittarius\":\n",
    "    print(\"Adventure is on the horizon.\")\n",
    "elif sun_sign == \"capricorn\":\n",
    "    print(\"Hard work will bring rewards.\")\n",
    "elif sun_sign == \"aquarius\":\n",
    "    print(\"Innovation will lead to success.\")\n",
    "elif sun_sign == \"pisces\":\n",
    "    print(\"Creativity will flow effortlessly.\")\n",
    "else:\n",
    "    print(\"Invalid sun sign.\")\n"
   ]
  },
  {
   "cell_type": "code",
   "execution_count": 77,
   "id": "ea45857b",
   "metadata": {},
   "outputs": [
    {
     "name": "stdout",
     "output_type": "stream",
     "text": [
      "Older person's age: 30\n",
      "Oldest person's age: 30\n"
     ]
    }
   ],
   "source": [
    "# Exercise:\n",
    "# there are two people and we know their ages.\n",
    "# print out the older person's age\n",
    "\n",
    "\n",
    "age1 = 25\n",
    "age2 = 30\n",
    "\n",
    "if age1 > age2:\n",
    "    print(\"Older person's age:\", age1)\n",
    "else:\n",
    "    print(\"Older person's age:\", age2)\n",
    "\n",
    "# For four people\n",
    "age1 = 25\n",
    "age2 = 30\n",
    "age3 = 22\n",
    "age4 = 27\n",
    "\n",
    "max_age = age1\n",
    "\n",
    "if age2 > max_age:\n",
    "    max_age = age2\n",
    "if age3 > max_age:\n",
    "    max_age = age3\n",
    "if age4 > max_age:\n",
    "    max_age = age4\n",
    "\n",
    "print(\"Oldest person's age:\", max_age)\n"
   ]
  },
  {
   "cell_type": "code",
   "execution_count": 78,
   "id": "c8c7292a",
   "metadata": {},
   "outputs": [
    {
     "name": "stdout",
     "output_type": "stream",
     "text": [
      "Gold:  10 %\n",
      "Equity:  77 %\n",
      "Debt:  13 %\n"
     ]
    }
   ],
   "source": [
    "#Exercise:\n",
    "# investment managers suggest that we should maintain a portfolio that is diversified. The general formula is 10% in Gold\n",
    "# (100 - age)% in equity and remaining in debt\n",
    "# ask user for their age and print the recommended portfolio composition\n",
    "\n",
    "age = int(input(\"Enter your age: \"))\n",
    "gold = 10\n",
    "equity = 100 - age\n",
    "debt = 100 - gold - equity\n",
    "\n",
    "print(\"Gold: \", gold, \"%\")\n",
    "print(\"Equity: \", equity, \"%\")\n",
    "print(\"Debt: \", debt, \"%\")"
   ]
  },
  {
   "cell_type": "code",
   "execution_count": 79,
   "id": "edc93b32",
   "metadata": {},
   "outputs": [
    {
     "name": "stdout",
     "output_type": "stream",
     "text": [
      "You were dissatisfied with our ambience, satisfied with our food, and neutral with our service.\n"
     ]
    }
   ],
   "source": [
    "# Exercise:\n",
    "# a restaurant asks customer for rating on each of ambience, food, and service\n",
    "# customer enters a rating 8 to 10 they are satisfied 6-7 is neutral and lesser rating is dissatisfied\n",
    "# in the end, print a summary like: you were satisfied with our food and ambience but neutral on service\n",
    "\n",
    "\n",
    "# how to implement:\n",
    "# ask for rating using three input statements\n",
    "# using if-elif generate the output\n",
    "\n",
    "ambience = int(input(\"Rate the ambience (1-10): \"))\n",
    "food = int(input(\"Rate the food (1-10): \"))\n",
    "service = int(input(\"Rate the service (1-10): \"))\n",
    "\n",
    "def rate_experience(rating):\n",
    "    if rating >= 8:\n",
    "        return \"satisfied\"\n",
    "    elif rating >= 6:\n",
    "        return \"neutral\"\n",
    "    else:\n",
    "        return \"dissatisfied\"\n",
    "\n",
    "ambience_feedback = rate_experience(ambience)\n",
    "food_feedback = rate_experience(food)\n",
    "service_feedback = rate_experience(service)\n",
    "\n",
    "print(f\"You were {ambience_feedback} with our ambience, {food_feedback} with our food, and {service_feedback} with our service.\")\n"
   ]
  },
  {
   "cell_type": "code",
   "execution_count": 80,
   "id": "9bdf7b0c",
   "metadata": {},
   "outputs": [
    {
     "name": "stdout",
     "output_type": "stream",
     "text": [
      "Buy from BSE, Sell at NSE, Profit: 3447.0 Rs per share\n"
     ]
    }
   ],
   "source": [
    "# Exercise:\n",
    "# Did you know that nearly 90% of all trades in stock exchanges algorithmic trades?\n",
    "# One of the popular types of trades is Arbitrage Trade.\n",
    "# Example: If TCS sells at 3000 in NSE and 2998 in BSE then arbitrage traders buy from it BSE and sell at NSE and make 2 Rs profit\n",
    "# In this scenario, we are focused on TCS price in two exchanges: NSE, BSE\n",
    "# Consider the prices and decide on the trade as Buy from *SE and sell in *SE and also print the potential profit.\n",
    "# if the difference is less than 1% of the share price it is not worth the cost of conducting the trade \n",
    "# so you take in price in BSE and NSE, and the output is \"Buy from \": *SE, 'Sell at ': *SE and profit of x Rs per share\n",
    "# or just 'No trade'\n",
    "\n",
    "price_nse = float(input(\"Enter TCS price in NSE: \"))\n",
    "price_bse = float(input(\"Enter TCS price in BSE: \"))\n",
    "\n",
    "if price_nse > price_bse:\n",
    "    profit = price_nse - price_bse\n",
    "    if profit > 0.01 * price_nse:\n",
    "        print(f\"Buy from BSE, Sell at NSE, Profit: {profit} Rs per share\")\n",
    "    else:\n",
    "        print(\"No trade\")\n",
    "elif price_bse > price_nse:\n",
    "    profit = price_bse - price_nse\n",
    "    if profit > 0.01 * price_bse:\n",
    "        print(f\"Buy from NSE, Sell at BSE, Profit: {profit} Rs per share\")\n",
    "    else:\n",
    "        print(\"No trade\")\n",
    "else:\n",
    "    print(\"No trade\")\n"
   ]
  },
  {
   "cell_type": "code",
   "execution_count": 81,
   "id": "98b3dac2",
   "metadata": {},
   "outputs": [
    {
     "name": "stdout",
     "output_type": "stream",
     "text": [
      "Permission granted to take exams.\n"
     ]
    }
   ],
   "source": [
    "# Exercise:\n",
    "# Students are eligible for taking exams if their attendance is at least 75%\n",
    "# take the total number of classes conducted and the attendance of a student\n",
    "# if less than cut-off but the student has an exception appoved by the Principal then they are allowed.\n",
    "# Else permission is denied\n",
    "\n",
    "total_classes = int(input(\"Enter the total number of classes conducted: \"))\n",
    "attended_classes = int(input(\"Enter the number of classes attended: \"))\n",
    "exception_approved = input(\"Is exception approved by the Principal? (yes/no): \").lower()\n",
    "\n",
    "attendance_percentage = (attended_classes / total_classes) * 100\n",
    "\n",
    "if attendance_percentage >= 75 or exception_approved == \"yes\":\n",
    "    print(\"Permission granted to take exams.\")\n",
    "else:\n",
    "    print(\"Permission denied to take exams.\")\n"
   ]
  },
  {
   "cell_type": "code",
   "execution_count": 84,
   "id": "1bf62cb1",
   "metadata": {},
   "outputs": [
    {
     "name": "stdout",
     "output_type": "stream",
     "text": [
      "Normal\n"
     ]
    }
   ],
   "source": [
    "# Exercise:\n",
    "# a company asks their employees to go thru periodic medical tests and you are asked to handle this scenario.\n",
    "# You may recall BP has two readings. Systolic and Diastolic. Following are criteria for systolic reading.\n",
    "# Normal: Below 120\n",
    "# Elevated: 120-129\n",
    "# Stage 1 high blood pressure (also called hypertension): 130-139\n",
    "# Stage 2 hypertension: 140 or more\n",
    "# Call for help: 180 or more.\n",
    "\n",
    "systolic = int(input(\"Enter systolic reading: \"))\n",
    "\n",
    "if systolic < 120:\n",
    "    print(\"Normal\")\n",
    "elif 120 <= systolic < 130:\n",
    "    print(\"Elevated\")\n",
    "elif 130 <= systolic < 140:\n",
    "    print(\"Stage 1 hypertension\")\n",
    "elif 140 <= systolic < 180:\n",
    "    print(\"Stage 2 hypertension\")\n",
    "else:\n",
    "    print(\"Call for help\")\n"
   ]
  },
  {
   "cell_type": "code",
   "execution_count": 86,
   "id": "73268132",
   "metadata": {},
   "outputs": [
    {
     "name": "stdout",
     "output_type": "stream",
     "text": [
      "Stage 1 hypertension\n"
     ]
    }
   ],
   "source": [
    "# Exercise:\n",
    "# Regarding the diastolic blood pressure:\n",
    "#Normal: Lower than 80\n",
    "#Stage 1 hypertension: 80-89\n",
    "#Stage 2 hypertension: 90 or more\n",
    "# Call for help: 120 or more.\n",
    "\n",
    "diastolic = int(input(\"Enter diastolic reading: \"))\n",
    "\n",
    "if diastolic < 80:\n",
    "    print(\"Normal\")\n",
    "elif 80 <= diastolic < 90:\n",
    "    print(\"Stage 1 hypertension\")\n",
    "elif diastolic >= 90:\n",
    "    print(\"Stage 2 hypertension\")\n",
    "else:\n",
    "    print(\"Call for help\")"
   ]
  },
  {
   "cell_type": "code",
   "execution_count": 87,
   "id": "e458305f",
   "metadata": {},
   "outputs": [
    {
     "name": "stdout",
     "output_type": "stream",
     "text": [
      "Stage 1 hypertension\n"
     ]
    }
   ],
   "source": [
    "# Exercise:\n",
    "# Combine the previous two exercises and rate a patient using both Systolic and Diastolic readings\n",
    "\n",
    "systolic = int(input(\"Enter systolic reading: \"))\n",
    "diastolic = int(input(\"Enter diastolic reading: \"))\n",
    "\n",
    "if systolic >= 180 or diastolic >= 120:\n",
    "    print(\"Call for help\")\n",
    "else:\n",
    "    if systolic < 120 and diastolic < 80:\n",
    "        print(\"Normal\")\n",
    "    elif 120 <= systolic < 130 and diastolic < 80:\n",
    "        print(\"Elevated\")\n",
    "    elif (130 <= systolic < 140) or (80 <= diastolic < 90):\n",
    "        print(\"Stage 1 hypertension\")\n",
    "    elif (140 <= systolic < 180) or (90 <= diastolic < 120):\n",
    "        print(\"Stage 2 hypertension\")\n"
   ]
  },
  {
   "cell_type": "code",
   "execution_count": 88,
   "id": "901b80e2",
   "metadata": {},
   "outputs": [
    {
     "name": "stdout",
     "output_type": "stream",
     "text": [
      "Eligible for admission\n"
     ]
    }
   ],
   "source": [
    "# Delhi university announces cut-offs for admission eligibility. An innovative approach was followed. For each XII board they\n",
    "# selected a cut-off reflecting the performance levels for that year. For example: CBSE 95%, ICSE 93%, StateBoard 96%,..\n",
    "# You take the board and actual marks for a student and respond with a message on their eligibility.\n",
    "\n",
    "board = input(\"Enter the board (CBSE/ICSE/StateBoard): \").upper()\n",
    "marks = float(input(\"Enter your marks: \"))\n",
    "\n",
    "cut_offs = {\n",
    "    \"CBSE\": 95,\n",
    "    \"ICSE\": 93,\n",
    "    \"STATEBOARD\": 96\n",
    "}\n",
    "\n",
    "if board in cut_offs:\n",
    "    if marks >= cut_offs[board]:\n",
    "        print(\"Eligible for admission\")\n",
    "    else:\n",
    "        print(\"Not eligible for admission\")\n",
    "else:\n",
    "    print(\"Invalid board\")"
   ]
  }
 ],
 "metadata": {
  "kernelspec": {
   "display_name": "Python 3 (ipykernel)",
   "language": "python",
   "name": "python3"
  },
  "language_info": {
   "codemirror_mode": {
    "name": "ipython",
    "version": 3
   },
   "file_extension": ".py",
   "mimetype": "text/x-python",
   "name": "python",
   "nbconvert_exporter": "python",
   "pygments_lexer": "ipython3",
   "version": "3.11.5"
  }
 },
 "nbformat": 4,
 "nbformat_minor": 5
}
